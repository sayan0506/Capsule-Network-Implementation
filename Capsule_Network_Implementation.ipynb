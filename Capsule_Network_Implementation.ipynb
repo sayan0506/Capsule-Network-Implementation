{
  "nbformat": 4,
  "nbformat_minor": 0,
  "metadata": {
    "colab": {
      "name": "Capsule Network Implementation.ipynb",
      "provenance": [],
      "authorship_tag": "ABX9TyN3qEuQDNq9QBlA6vI076pC",
      "include_colab_link": true
    },
    "kernelspec": {
      "name": "python3",
      "display_name": "Python 3"
    },
    "language_info": {
      "name": "python"
    }
  },
  "cells": [
    {
      "cell_type": "markdown",
      "metadata": {
        "id": "view-in-github",
        "colab_type": "text"
      },
      "source": [
        "<a href=\"https://colab.research.google.com/github/sayan0506/Capsule-Network-Implementation/blob/main/Capsule_Network_Implementation.ipynb\" target=\"_parent\"><img src=\"https://colab.research.google.com/assets/colab-badge.svg\" alt=\"Open In Colab\"/></a>"
      ]
    },
    {
      "cell_type": "markdown",
      "metadata": {
        "id": "FIXvys-MA0Sr"
      },
      "source": [
        "# **Implementing Capsule Network using Tensorflow**"
      ]
    },
    {
      "cell_type": "markdown",
      "metadata": {
        "id": "uym7qnFA6NYh"
      },
      "source": [
        "Installing Dependencies"
      ]
    },
    {
      "cell_type": "code",
      "metadata": {
        "colab": {
          "base_uri": "https://localhost:8080/"
        },
        "id": "SdsascAy6QTq",
        "outputId": "4cb15ebd-70f7-4e3d-c892-7fb774093f90"
      },
      "source": [
        "# install keras livelossplot\n",
        "!pip -q install livelossplot\n",
        "\n",
        "# install wandb\n",
        "!pip install --upgrade wandb"
      ],
      "execution_count": 1,
      "outputs": [
        {
          "output_type": "stream",
          "text": [
            "Collecting wandb\n",
            "\u001b[?25l  Downloading https://files.pythonhosted.org/packages/d5/5d/20ab24504de2669c9a76a50c9bdaeb44a440b0e5e4b92be881ed323857b1/wandb-0.10.26-py2.py3-none-any.whl (2.1MB)\n",
            "\u001b[K     |████████████████████████████████| 2.1MB 6.0MB/s \n",
            "\u001b[?25hCollecting subprocess32>=3.5.3\n",
            "\u001b[?25l  Downloading https://files.pythonhosted.org/packages/32/c8/564be4d12629b912ea431f1a50eb8b3b9d00f1a0b1ceff17f266be190007/subprocess32-3.5.4.tar.gz (97kB)\n",
            "\u001b[K     |████████████████████████████████| 102kB 7.4MB/s \n",
            "\u001b[?25hCollecting GitPython>=1.0.0\n",
            "\u001b[?25l  Downloading https://files.pythonhosted.org/packages/a6/99/98019716955ba243657daedd1de8f3a88ca1f5b75057c38e959db22fb87b/GitPython-3.1.14-py3-none-any.whl (159kB)\n",
            "\u001b[K     |████████████████████████████████| 163kB 41.8MB/s \n",
            "\u001b[?25hRequirement already satisfied, skipping upgrade: promise<3,>=2.0 in /usr/local/lib/python3.7/dist-packages (from wandb) (2.3)\n",
            "Requirement already satisfied, skipping upgrade: Click>=7.0 in /usr/local/lib/python3.7/dist-packages (from wandb) (7.1.2)\n",
            "Collecting shortuuid>=0.5.0\n",
            "  Downloading https://files.pythonhosted.org/packages/25/a6/2ecc1daa6a304e7f1b216f0896b26156b78e7c38e1211e9b798b4716c53d/shortuuid-1.0.1-py3-none-any.whl\n",
            "Requirement already satisfied, skipping upgrade: protobuf>=3.12.0 in /usr/local/lib/python3.7/dist-packages (from wandb) (3.12.4)\n",
            "Requirement already satisfied, skipping upgrade: PyYAML in /usr/local/lib/python3.7/dist-packages (from wandb) (3.13)\n",
            "Requirement already satisfied, skipping upgrade: python-dateutil>=2.6.1 in /usr/local/lib/python3.7/dist-packages (from wandb) (2.8.1)\n",
            "Collecting configparser>=3.8.1\n",
            "  Downloading https://files.pythonhosted.org/packages/fd/01/ff260a18caaf4457eb028c96eeb405c4a230ca06c8ec9c1379f813caa52e/configparser-5.0.2-py3-none-any.whl\n",
            "Collecting docker-pycreds>=0.4.0\n",
            "  Downloading https://files.pythonhosted.org/packages/f5/e8/f6bd1eee09314e7e6dee49cbe2c5e22314ccdb38db16c9fc72d2fa80d054/docker_pycreds-0.4.0-py2.py3-none-any.whl\n",
            "Collecting sentry-sdk>=0.4.0\n",
            "\u001b[?25l  Downloading https://files.pythonhosted.org/packages/f3/92/5a33be64990ba815364a8f2dd9e6f51de60d23dfddafb4f1fc5577d4dc64/sentry_sdk-1.0.0-py2.py3-none-any.whl (131kB)\n",
            "\u001b[K     |████████████████████████████████| 133kB 36.8MB/s \n",
            "\u001b[?25hRequirement already satisfied, skipping upgrade: psutil>=5.0.0 in /usr/local/lib/python3.7/dist-packages (from wandb) (5.4.8)\n",
            "Requirement already satisfied, skipping upgrade: six>=1.13.0 in /usr/local/lib/python3.7/dist-packages (from wandb) (1.15.0)\n",
            "Collecting pathtools\n",
            "  Downloading https://files.pythonhosted.org/packages/e7/7f/470d6fcdf23f9f3518f6b0b76be9df16dcc8630ad409947f8be2eb0ed13a/pathtools-0.1.2.tar.gz\n",
            "Requirement already satisfied, skipping upgrade: requests<3,>=2.0.0 in /usr/local/lib/python3.7/dist-packages (from wandb) (2.23.0)\n",
            "Collecting gitdb<5,>=4.0.1\n",
            "\u001b[?25l  Downloading https://files.pythonhosted.org/packages/ea/e8/f414d1a4f0bbc668ed441f74f44c116d9816833a48bf81d22b697090dba8/gitdb-4.0.7-py3-none-any.whl (63kB)\n",
            "\u001b[K     |████████████████████████████████| 71kB 5.8MB/s \n",
            "\u001b[?25hRequirement already satisfied, skipping upgrade: setuptools in /usr/local/lib/python3.7/dist-packages (from protobuf>=3.12.0->wandb) (54.2.0)\n",
            "Requirement already satisfied, skipping upgrade: certifi in /usr/local/lib/python3.7/dist-packages (from sentry-sdk>=0.4.0->wandb) (2020.12.5)\n",
            "Requirement already satisfied, skipping upgrade: urllib3>=1.10.0 in /usr/local/lib/python3.7/dist-packages (from sentry-sdk>=0.4.0->wandb) (1.24.3)\n",
            "Requirement already satisfied, skipping upgrade: chardet<4,>=3.0.2 in /usr/local/lib/python3.7/dist-packages (from requests<3,>=2.0.0->wandb) (3.0.4)\n",
            "Requirement already satisfied, skipping upgrade: idna<3,>=2.5 in /usr/local/lib/python3.7/dist-packages (from requests<3,>=2.0.0->wandb) (2.10)\n",
            "Collecting smmap<5,>=3.0.1\n",
            "  Downloading https://files.pythonhosted.org/packages/68/ee/d540eb5e5996eb81c26ceffac6ee49041d473bc5125f2aa995cf51ec1cf1/smmap-4.0.0-py2.py3-none-any.whl\n",
            "Building wheels for collected packages: subprocess32, pathtools\n",
            "  Building wheel for subprocess32 (setup.py) ... \u001b[?25l\u001b[?25hdone\n",
            "  Created wheel for subprocess32: filename=subprocess32-3.5.4-cp37-none-any.whl size=6489 sha256=ac0f29f2d22afd53f4666979ba4e567421e6648e648c7b8b4951077fc88d3781\n",
            "  Stored in directory: /root/.cache/pip/wheels/68/39/1a/5e402bdfdf004af1786c8b853fd92f8c4a04f22aad179654d1\n",
            "  Building wheel for pathtools (setup.py) ... \u001b[?25l\u001b[?25hdone\n",
            "  Created wheel for pathtools: filename=pathtools-0.1.2-cp37-none-any.whl size=8786 sha256=846338b3c2e7755a9320d7e8d257bfadf9768465b122c4afb729ef8c3157abcf\n",
            "  Stored in directory: /root/.cache/pip/wheels/0b/04/79/c3b0c3a0266a3cb4376da31e5bfe8bba0c489246968a68e843\n",
            "Successfully built subprocess32 pathtools\n",
            "Installing collected packages: subprocess32, smmap, gitdb, GitPython, shortuuid, configparser, docker-pycreds, sentry-sdk, pathtools, wandb\n",
            "Successfully installed GitPython-3.1.14 configparser-5.0.2 docker-pycreds-0.4.0 gitdb-4.0.7 pathtools-0.1.2 sentry-sdk-1.0.0 shortuuid-1.0.1 smmap-4.0.0 subprocess32-3.5.4 wandb-0.10.26\n"
          ],
          "name": "stdout"
        }
      ]
    },
    {
      "cell_type": "markdown",
      "metadata": {
        "id": "VqH1uskvBHjd"
      },
      "source": [
        "## Import Dependencies"
      ]
    },
    {
      "cell_type": "code",
      "metadata": {
        "id": "yRqmscFRAuMH"
      },
      "source": [
        "import random\n",
        "import os\n",
        "import numpy as np\n",
        "from matplotlib import pyplot as plt\n",
        "import pandas as pd\n",
        "\n",
        "import tensorflow as tf\n",
        "from tensorflow.keras.datasets import mnist\n",
        "import seaborn as sns\n",
        "from tqdm import tqdm"
      ],
      "execution_count": 23,
      "outputs": []
    },
    {
      "cell_type": "markdown",
      "metadata": {
        "id": "J9f3eQeg1Lei"
      },
      "source": [
        "## Environment Setup\n",
        "\n",
        "**Improve Reproducibility**"
      ]
    },
    {
      "cell_type": "code",
      "metadata": {
        "id": "XoyDrwiqBWuy"
      },
      "source": [
        "# improve reproducibility and make the implementation more deterministic\n",
        "os.environ['TF_CUDNN_DETERMINISTIC'] = '1'\n",
        "random.seed(hash(\"setting random seeds\") % 2**32 - 1)\n",
        "np.random.seed(hash(\"improves reproducibility\") % 2**32 - 1)\n",
        "tf.random.set_seed(hash(\"by removing stochasticity\")% 2**32 - 1)"
      ],
      "execution_count": 3,
      "outputs": []
    },
    {
      "cell_type": "markdown",
      "metadata": {
        "id": "fE4Vt6-O4t0m"
      },
      "source": [
        "**Setup wandb(Weights  and Biases) environment**"
      ]
    },
    {
      "cell_type": "code",
      "metadata": {
        "id": "o2fUJvI74r6X"
      },
      "source": [
        "import wandb\n",
        "from wandb.keras import WandbCallback\n",
        "\n",
        "# authorize\n",
        "# wandb.login()"
      ],
      "execution_count": 4,
      "outputs": []
    },
    {
      "cell_type": "markdown",
      "metadata": {
        "id": "579lT3UtbU9O"
      },
      "source": [
        "## **Load Standard MNIST Dataset using Keras**\n",
        "\n",
        "[MNIST Reference](https://keras.io/api/datasets/mnist/#load_data-function)"
      ]
    },
    {
      "cell_type": "code",
      "metadata": {
        "id": "rDN8YxEB6JHI",
        "colab": {
          "base_uri": "https://localhost:8080/"
        },
        "outputId": "97e0d73c-18cf-420b-f9bf-50c1390064d5"
      },
      "source": [
        "# load mnist by using standard train_test_split\n",
        "(x_train, y_train), (x_test, y_test) = mnist.load_data(path = \"mnist.npz\")"
      ],
      "execution_count": 6,
      "outputs": [
        {
          "output_type": "stream",
          "text": [
            "Downloading data from https://storage.googleapis.com/tensorflow/tf-keras-datasets/mnist.npz\n",
            "11493376/11490434 [==============================] - 0s 0us/step\n"
          ],
          "name": "stdout"
        }
      ]
    },
    {
      "cell_type": "markdown",
      "metadata": {
        "id": "uxTRQSIob-W8"
      },
      "source": [
        "## **Data Inspection on MNIST**"
      ]
    },
    {
      "cell_type": "code",
      "metadata": {
        "colab": {
          "base_uri": "https://localhost:8080/"
        },
        "id": "cAF13KLHb5uO",
        "outputId": "4792ac38-d4c6-4008-d262-f9b36dc8ba30"
      },
      "source": [
        "print(f'Train input shape {x_train.shape}')\n",
        "print(f'Train input shape {y_train.shape}')\n",
        "print(f'Test input shape {x_test.shape}')\n",
        "print(f'Test label shape {y_test.shape}')"
      ],
      "execution_count": 8,
      "outputs": [
        {
          "output_type": "stream",
          "text": [
            "Train input shape (60000, 28, 28)\n",
            "Train input shape (60000,)\n",
            "Test input shape (10000, 28, 28)\n",
            "Test label shape (10000,)\n"
          ],
          "name": "stdout"
        }
      ]
    },
    {
      "cell_type": "markdown",
      "metadata": {
        "id": "lvZJKzpNdqgn"
      },
      "source": [
        "# **Analyzing train and test distribution**"
      ]
    },
    {
      "cell_type": "code",
      "metadata": {
        "id": "nCOiaz4DdOnl"
      },
      "source": [
        "# dataframe for train distribution\n",
        "train_df = pd.DataFrame(y_train, columns = ['Targets'])\n",
        "\n",
        "# dataframe for test distribution\n",
        "test_df = pd.DataFrame(y_test, columns = ['Targets'])\n",
        "\n",
        "# train and test value counts\n",
        "train_c = train_df.value_counts()\n",
        "test_c = test_df.value_counts()"
      ],
      "execution_count": 10,
      "outputs": []
    },
    {
      "cell_type": "code",
      "metadata": {
        "colab": {
          "base_uri": "https://localhost:8080/"
        },
        "id": "aVCLKsV5d0Z-",
        "outputId": "7948d379-27c4-4883-a39a-dac45ae6aa8f"
      },
      "source": [
        "# class ids\n",
        "class_ids = [i for i in range(10)]\n",
        "print(f'Class ids {class_ids}')"
      ],
      "execution_count": 11,
      "outputs": [
        {
          "output_type": "stream",
          "text": [
            "Class ids [0, 1, 2, 3, 4, 5, 6, 7, 8, 9]\n"
          ],
          "name": "stdout"
        }
      ]
    },
    {
      "cell_type": "markdown",
      "metadata": {
        "id": "YEhX6FaRfn9c"
      },
      "source": [
        "#### **Visualize the distribution for train and test set**\n"
      ]
    },
    {
      "cell_type": "code",
      "metadata": {
        "colab": {
          "base_uri": "https://localhost:8080/",
          "height": 271
        },
        "id": "DUnTRAn4flvD",
        "outputId": "68e80656-032b-400b-835a-739a20aa07f7"
      },
      "source": [
        "fig = plt.figure(figsize = (15,5))\n",
        "fig.suptitle('Class distribution in the standard MNIST set', fontsize = 16)\n",
        "fig.tight_layout()\n",
        "\n",
        "# train distribution\n",
        "fig.add_subplot(121)\n",
        "sns.barplot(x = class_ids, y = train_c.values)\n",
        "plt.xlabel('Train Distribution')\n",
        "\n",
        "# test distribution\n",
        "fig.add_subplot(122)\n",
        "sns.barplot(x = class_ids, y = test_c.values)\n",
        "plt.xlabel('Test Distribution')\n",
        "\n",
        "plt.show()"
      ],
      "execution_count": 14,
      "outputs": [
        {
          "output_type": "display_data",
          "data": {
            "image/png": "[encoded data removed]",
            "text/plain": [
              "<Figure size 1080x360 with 2 Axes>"
            ]
          },
          "metadata": {
            "tags": [],
            "needs_background": "light"
          }
        }
      ]
    },
    {
      "cell_type": "markdown",
      "metadata": {
        "id": "v2vL3JUehRPz"
      },
      "source": [
        "We can see both train and test data are stratified split"
      ]
    },
    {
      "cell_type": "markdown",
      "metadata": {
        "id": "Y2a9weeZpmwP"
      },
      "source": [
        "#### **Sample Visualization of MNIST samples for individual Classes**\n",
        "\n",
        "Picking random sample of each class from train set and visualize  "
      ]
    },
    {
      "cell_type": "code",
      "metadata": {
        "id": "EEXsI12xhL5j"
      },
      "source": [
        "\n",
        "def mnist_vis(x_train, y_train, class_ids):\n",
        "  '''\n",
        "  Visualize random MNIST samples\n",
        "  '''\n",
        "  index_list = [random.choice([j for j,label in enumerate(y_train) if label==i])\n",
        "   for i in class_ids]\n",
        "  \n",
        "  # obtaining sample images from train set\n",
        "  sample_img = [x_train[index] for index in index_list]\n",
        "  \n",
        "  rows = 2\n",
        "  cols = int(len(index_list)/rows)\n",
        "\n",
        "  fig = plt.figure(figsize = (15,5))\n",
        "  fig.suptitle('MNISt samples visualization', fontsize = 16)\n",
        "  #fig.tight_layout()\n",
        "  \n",
        "  for a,idx in enumerate(index_list):\n",
        "    fig.add_subplot(rows, cols, a+1)\n",
        "    plt.imshow(x_train[idx], cmap = 'gray')\n",
        "    plt.xlabel(f'Label: {a}')\n",
        "    plt.xticks([])\n",
        "    plt.yticks([])\n",
        "\n",
        "  plt.show()"
      ],
      "execution_count": 17,
      "outputs": []
    },
    {
      "cell_type": "code",
      "metadata": {
        "colab": {
          "base_uri": "https://localhost:8080/",
          "height": 273
        },
        "id": "8GtTtgh8qQ9s",
        "outputId": "57cd53d8-b9a9-4a06-818c-4b09ce103ad8"
      },
      "source": [
        "# calling visualization\n",
        "mnist_vis(x_train, y_train, class_ids)"
      ],
      "execution_count": 18,
      "outputs": [
        {
          "output_type": "display_data",
          "data": {
            "image/png": "[encoded data removed]",
            "text/plain": [
              "<Figure size 1080x360 with 10 Axes>"
            ]
          },
          "metadata": {
            "tags": []
          }
        }
      ]
    },
    {
      "cell_type": "markdown",
      "metadata": {
        "id": "vPBAOQPeq5dl"
      },
      "source": [
        "## **Data Preperation MNIST**\n",
        "Data preprocessing steps include\n",
        "\n",
        "1. Converting image pixels to float32\n",
        "2. Normalizing the pixels\n",
        "3. Reshaping"
      ]
    },
    {
      "cell_type": "code",
      "metadata": {
        "id": "w-10sM3EqTZ5"
      },
      "source": [
        "def mnist_prep(x_train, x_test):\n",
        "  # convert images pixel to standard float32\n",
        "  x_train_norm = tf.cast(x_train, dtype = tf.float32)\n",
        "  x_test_norm = tf.cast(x_test, dtype = tf.float32)\n",
        "  \n",
        "  # normalize pixels\n",
        "  x_train_norm = x_train_norm/255.0\n",
        "  x_test_norm = x_test_norm/255.0\n",
        "\n",
        "  # reshape the data (m, nh, nw, nc) nc = 1\n",
        "  x_train = tf.expand_dims(x_train_norm, axis = -1)\n",
        "  x_test = tf.expand_dims(x_test_norm, axis = -1)\n",
        "\n",
        "  return x_train, x_test"
      ],
      "execution_count": 20,
      "outputs": []
    },
    {
      "cell_type": "code",
      "metadata": {
        "colab": {
          "base_uri": "https://localhost:8080/"
        },
        "id": "eYud7xOJuAJc",
        "outputId": "cd342aef-2ead-440f-f54c-f6f492966a23"
      },
      "source": [
        "# loading pre-processes data\n",
        "x_train_pro, x_test_pro = mnist_prep(x_train, x_test)\n",
        "\n",
        "print(f'Preprocessed train input shape {x_train_pro.shape}')\n",
        "print(f'Preprocessed test input shape {x_test_pro.shape}')"
      ],
      "execution_count": 21,
      "outputs": [
        {
          "output_type": "stream",
          "text": [
            "Preprocessed train input shape (60000, 28, 28, 1)\n",
            "Preprocessed test input shape (10000, 28, 28, 1)\n"
          ],
          "name": "stdout"
        }
      ]
    },
    {
      "cell_type": "markdown",
      "metadata": {
        "id": "kzvwrTfw6JF6"
      },
      "source": [
        "#### **Evaluating the pre-processing steps**"
      ]
    },
    {
      "cell_type": "code",
      "metadata": {
        "colab": {
          "base_uri": "https://localhost:8080/"
        },
        "id": "I5XU-zy_5aKu",
        "outputId": "3befa013-b0d1-463c-a66c-c823e45a311d"
      },
      "source": [
        "# both the input image format are same or not\n",
        "assert x_train_pro.shape[1:] == x_test_pro.shape[1:]\n",
        "# checking lenghth of input and label\n",
        "assert x_train_pro.shape[0] == y_train.shape[0] and x_test_pro.shape[0] == y_test.shape[0]\n",
        "# checking image data type\n",
        "assert x_train_pro.dtype == x_test_pro.dtype\n",
        "\n",
        "print(\"All assertion test cases passed\")"
      ],
      "execution_count": 22,
      "outputs": [
        {
          "output_type": "stream",
          "text": [
            "All assertion test cases passed\n"
          ],
          "name": "stdout"
        }
      ]
    },
    {
      "cell_type": "code",
      "metadata": {
        "id": "V-mVgyiv7H32"
      },
      "source": [
        ""
      ],
      "execution_count": null,
      "outputs": []
    }
  ]
}