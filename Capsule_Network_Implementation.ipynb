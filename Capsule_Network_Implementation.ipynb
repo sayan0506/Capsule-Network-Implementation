{
  "nbformat": 4,
  "nbformat_minor": 0,
  "metadata": {
    "colab": {
      "name": "Capsule Network Implementation.ipynb",
      "provenance": [],
      "toc_visible": true,
      "authorship_tag": "ABX9TyPphf9t1NIQJ1spwGWQRYx/",
      "include_colab_link": true
    },
    "kernelspec": {
      "name": "python3",
      "display_name": "Python 3"
    },
    "language_info": {
      "name": "python"
    },
    "accelerator": "GPU"
  },
  "cells": [
    {
      "cell_type": "markdown",
      "metadata": {
        "id": "view-in-github",
        "colab_type": "text"
      },
      "source": [
        "<a href=\"https://colab.research.google.com/github/sayan0506/Capsule-Network-Implementation/blob/main/Capsule_Network_Implementation.ipynb\" target=\"_parent\"><img src=\"https://colab.research.google.com/assets/colab-badge.svg\" alt=\"Open In Colab\"/></a>"
      ]
    },
    {
      "cell_type": "markdown",
      "metadata": {
        "id": "FIXvys-MA0Sr"
      },
      "source": [
        "# **Implementing Capsule Network using Tensorflow**"
      ]
    },
    {
      "cell_type": "markdown",
      "metadata": {
        "id": "uym7qnFA6NYh"
      },
      "source": [
        "Installing Dependencies"
      ]
    },
    {
      "cell_type": "code",
      "metadata": {
        "colab": {
          "base_uri": "https://localhost:8080/"
        },
        "id": "SdsascAy6QTq",
        "outputId": "fa338a0d-fa3c-4c64-e80e-ba079cdc05f3"
      },
      "source": [
        "# install keras livelossplot\n",
        "!pip -q install livelossplot\n",
        "\n",
        "# install wandb\n",
        "!pip install --upgrade wandb"
      ],
      "execution_count": 1,
      "outputs": [
        {
          "output_type": "stream",
          "text": [
            "Collecting wandb\n",
            "\u001b[?25l  Downloading https://files.pythonhosted.org/packages/d5/5d/20ab24504de2669c9a76a50c9bdaeb44a440b0e5e4b92be881ed323857b1/wandb-0.10.26-py2.py3-none-any.whl (2.1MB)\n",
            "\u001b[K     |████████████████████████████████| 2.1MB 20.0MB/s \n",
            "\u001b[?25hRequirement already satisfied, skipping upgrade: protobuf>=3.12.0 in /usr/local/lib/python3.7/dist-packages (from wandb) (3.12.4)\n",
            "Requirement already satisfied, skipping upgrade: PyYAML in /usr/local/lib/python3.7/dist-packages (from wandb) (3.13)\n",
            "Collecting configparser>=3.8.1\n",
            "  Downloading https://files.pythonhosted.org/packages/fd/01/ff260a18caaf4457eb028c96eeb405c4a230ca06c8ec9c1379f813caa52e/configparser-5.0.2-py3-none-any.whl\n",
            "Collecting pathtools\n",
            "  Downloading https://files.pythonhosted.org/packages/e7/7f/470d6fcdf23f9f3518f6b0b76be9df16dcc8630ad409947f8be2eb0ed13a/pathtools-0.1.2.tar.gz\n",
            "Requirement already satisfied, skipping upgrade: Click>=7.0 in /usr/local/lib/python3.7/dist-packages (from wandb) (7.1.2)\n",
            "Collecting docker-pycreds>=0.4.0\n",
            "  Downloading https://files.pythonhosted.org/packages/f5/e8/f6bd1eee09314e7e6dee49cbe2c5e22314ccdb38db16c9fc72d2fa80d054/docker_pycreds-0.4.0-py2.py3-none-any.whl\n",
            "Requirement already satisfied, skipping upgrade: python-dateutil>=2.6.1 in /usr/local/lib/python3.7/dist-packages (from wandb) (2.8.1)\n",
            "Requirement already satisfied, skipping upgrade: psutil>=5.0.0 in /usr/local/lib/python3.7/dist-packages (from wandb) (5.4.8)\n",
            "Requirement already satisfied, skipping upgrade: requests<3,>=2.0.0 in /usr/local/lib/python3.7/dist-packages (from wandb) (2.23.0)\n",
            "Collecting shortuuid>=0.5.0\n",
            "  Downloading https://files.pythonhosted.org/packages/25/a6/2ecc1daa6a304e7f1b216f0896b26156b78e7c38e1211e9b798b4716c53d/shortuuid-1.0.1-py3-none-any.whl\n",
            "Requirement already satisfied, skipping upgrade: promise<3,>=2.0 in /usr/local/lib/python3.7/dist-packages (from wandb) (2.3)\n",
            "Collecting subprocess32>=3.5.3\n",
            "\u001b[?25l  Downloading https://files.pythonhosted.org/packages/32/c8/564be4d12629b912ea431f1a50eb8b3b9d00f1a0b1ceff17f266be190007/subprocess32-3.5.4.tar.gz (97kB)\n",
            "\u001b[K     |████████████████████████████████| 102kB 13.8MB/s \n",
            "\u001b[?25hCollecting GitPython>=1.0.0\n",
            "\u001b[?25l  Downloading https://files.pythonhosted.org/packages/a6/99/98019716955ba243657daedd1de8f3a88ca1f5b75057c38e959db22fb87b/GitPython-3.1.14-py3-none-any.whl (159kB)\n",
            "\u001b[K     |████████████████████████████████| 163kB 52.1MB/s \n",
            "\u001b[?25hCollecting sentry-sdk>=0.4.0\n",
            "\u001b[?25l  Downloading https://files.pythonhosted.org/packages/f3/92/5a33be64990ba815364a8f2dd9e6f51de60d23dfddafb4f1fc5577d4dc64/sentry_sdk-1.0.0-py2.py3-none-any.whl (131kB)\n",
            "\u001b[K     |████████████████████████████████| 133kB 56.2MB/s \n",
            "\u001b[?25hRequirement already satisfied, skipping upgrade: six>=1.13.0 in /usr/local/lib/python3.7/dist-packages (from wandb) (1.15.0)\n",
            "Requirement already satisfied, skipping upgrade: setuptools in /usr/local/lib/python3.7/dist-packages (from protobuf>=3.12.0->wandb) (54.2.0)\n",
            "Requirement already satisfied, skipping upgrade: urllib3!=1.25.0,!=1.25.1,<1.26,>=1.21.1 in /usr/local/lib/python3.7/dist-packages (from requests<3,>=2.0.0->wandb) (1.24.3)\n",
            "Requirement already satisfied, skipping upgrade: chardet<4,>=3.0.2 in /usr/local/lib/python3.7/dist-packages (from requests<3,>=2.0.0->wandb) (3.0.4)\n",
            "Requirement already satisfied, skipping upgrade: idna<3,>=2.5 in /usr/local/lib/python3.7/dist-packages (from requests<3,>=2.0.0->wandb) (2.10)\n",
            "Requirement already satisfied, skipping upgrade: certifi>=2017.4.17 in /usr/local/lib/python3.7/dist-packages (from requests<3,>=2.0.0->wandb) (2020.12.5)\n",
            "Collecting gitdb<5,>=4.0.1\n",
            "\u001b[?25l  Downloading https://files.pythonhosted.org/packages/ea/e8/f414d1a4f0bbc668ed441f74f44c116d9816833a48bf81d22b697090dba8/gitdb-4.0.7-py3-none-any.whl (63kB)\n",
            "\u001b[K     |████████████████████████████████| 71kB 11.1MB/s \n",
            "\u001b[?25hCollecting smmap<5,>=3.0.1\n",
            "  Downloading https://files.pythonhosted.org/packages/68/ee/d540eb5e5996eb81c26ceffac6ee49041d473bc5125f2aa995cf51ec1cf1/smmap-4.0.0-py2.py3-none-any.whl\n",
            "Building wheels for collected packages: pathtools, subprocess32\n",
            "  Building wheel for pathtools (setup.py) ... \u001b[?25l\u001b[?25hdone\n",
            "  Created wheel for pathtools: filename=pathtools-0.1.2-cp37-none-any.whl size=8786 sha256=a465322e05d0ac146e0f31667d53b4215223e24c73b0de2a3ae20e74335bc719\n",
            "  Stored in directory: /root/.cache/pip/wheels/0b/04/79/c3b0c3a0266a3cb4376da31e5bfe8bba0c489246968a68e843\n",
            "  Building wheel for subprocess32 (setup.py) ... \u001b[?25l\u001b[?25hdone\n",
            "  Created wheel for subprocess32: filename=subprocess32-3.5.4-cp37-none-any.whl size=6489 sha256=af912755b053801d5aeeb267995fb9176703cfeab43f0779b3d0a4557a922adf\n",
            "  Stored in directory: /root/.cache/pip/wheels/68/39/1a/5e402bdfdf004af1786c8b853fd92f8c4a04f22aad179654d1\n",
            "Successfully built pathtools subprocess32\n",
            "Installing collected packages: configparser, pathtools, docker-pycreds, shortuuid, subprocess32, smmap, gitdb, GitPython, sentry-sdk, wandb\n",
            "Successfully installed GitPython-3.1.14 configparser-5.0.2 docker-pycreds-0.4.0 gitdb-4.0.7 pathtools-0.1.2 sentry-sdk-1.0.0 shortuuid-1.0.1 smmap-4.0.0 subprocess32-3.5.4 wandb-0.10.26\n"
          ],
          "name": "stdout"
        }
      ]
    },
    {
      "cell_type": "markdown",
      "metadata": {
        "id": "VqH1uskvBHjd"
      },
      "source": [
        "## Import Dependencies"
      ]
    },
    {
      "cell_type": "code",
      "metadata": {
        "id": "yRqmscFRAuMH"
      },
      "source": [
        "import random\n",
        "import os\n",
        "import numpy as np\n",
        "from matplotlib import pyplot as plt\n",
        "import pandas as pd\n",
        "\n",
        "import tensorflow as tf\n",
        "from tensorflow.keras.datasets import mnist\n",
        "import seaborn as sns\n",
        "from tqdm import tqdm"
      ],
      "execution_count": 2,
      "outputs": []
    },
    {
      "cell_type": "markdown",
      "metadata": {
        "id": "J9f3eQeg1Lei"
      },
      "source": [
        "## Environment Setup\n",
        "\n",
        "**Improve Reproducibility**"
      ]
    },
    {
      "cell_type": "code",
      "metadata": {
        "id": "XoyDrwiqBWuy"
      },
      "source": [
        "# improve reproducibility and make the implementation more deterministic\n",
        "os.environ['TF_CUDNN_DETERMINISTIC'] = '1'\n",
        "random.seed(hash(\"setting random seeds\") % 2**32 - 1)\n",
        "np.random.seed(hash(\"improves reproducibility\") % 2**32 - 1)\n",
        "tf.random.set_seed(hash(\"by removing stochasticity\")% 2**32 - 1)"
      ],
      "execution_count": 3,
      "outputs": []
    },
    {
      "cell_type": "markdown",
      "metadata": {
        "id": "BfpBIces89yb"
      },
      "source": [
        "**GPU allocation checkup**"
      ]
    },
    {
      "cell_type": "code",
      "metadata": {
        "colab": {
          "base_uri": "https://localhost:8080/"
        },
        "id": "Qbyqh7Uw9CEM",
        "outputId": "77954610-43e5-4f75-d929-ff9b3c18fa2f"
      },
      "source": [
        "# testing whether the GPU is allocated or not\n",
        "device_name = tf.test.gpu_device_name()\n",
        "if device_name != '/device:GPU:0':\n",
        "  raise SystemError('GPU device not found')\n",
        "print('Found GPU at: {}'.format(device_name))"
      ],
      "execution_count": 5,
      "outputs": [
        {
          "output_type": "stream",
          "text": [
            "Found GPU at: /device:GPU:0\n"
          ],
          "name": "stdout"
        }
      ]
    },
    {
      "cell_type": "markdown",
      "metadata": {
        "id": "fE4Vt6-O4t0m"
      },
      "source": [
        "**Setup wandb(Weights  and Biases) environment**"
      ]
    },
    {
      "cell_type": "code",
      "metadata": {
        "id": "o2fUJvI74r6X"
      },
      "source": [
        "import wandb\n",
        "from wandb.keras import WandbCallback\n",
        "\n",
        "# authorize\n",
        "# wandb.login()"
      ],
      "execution_count": 6,
      "outputs": []
    },
    {
      "cell_type": "markdown",
      "metadata": {
        "id": "579lT3UtbU9O"
      },
      "source": [
        "## **Load Standard MNIST Dataset using Keras**\n",
        "\n",
        "[MNIST Reference](https://keras.io/api/datasets/mnist/#load_data-function)"
      ]
    },
    {
      "cell_type": "code",
      "metadata": {
        "id": "rDN8YxEB6JHI",
        "colab": {
          "base_uri": "https://localhost:8080/"
        },
        "outputId": "4c543ddd-9ab4-44b7-f594-77cba4d58d80"
      },
      "source": [
        "# load mnist by using standard train_test_split\n",
        "(x_train, y_train), (x_test, y_test) = mnist.load_data(path = \"mnist.npz\")"
      ],
      "execution_count": 7,
      "outputs": [
        {
          "output_type": "stream",
          "text": [
            "Downloading data from https://storage.googleapis.com/tensorflow/tf-keras-datasets/mnist.npz\n",
            "11493376/11490434 [==============================] - 0s 0us/step\n"
          ],
          "name": "stdout"
        }
      ]
    },
    {
      "cell_type": "markdown",
      "metadata": {
        "id": "uxTRQSIob-W8"
      },
      "source": [
        "## **Data Inspection on MNIST**"
      ]
    },
    {
      "cell_type": "code",
      "metadata": {
        "colab": {
          "base_uri": "https://localhost:8080/"
        },
        "id": "cAF13KLHb5uO",
        "outputId": "3ac5a3a7-2e29-4104-e672-213798c0a6b8"
      },
      "source": [
        "print(f'Train input shape {x_train.shape}')\n",
        "print(f'Train input shape {y_train.shape}')\n",
        "print(f'Test input shape {x_test.shape}')\n",
        "print(f'Test label shape {y_test.shape}')"
      ],
      "execution_count": 8,
      "outputs": [
        {
          "output_type": "stream",
          "text": [
            "Train input shape (60000, 28, 28)\n",
            "Train input shape (60000,)\n",
            "Test input shape (10000, 28, 28)\n",
            "Test label shape (10000,)\n"
          ],
          "name": "stdout"
        }
      ]
    },
    {
      "cell_type": "markdown",
      "metadata": {
        "id": "lvZJKzpNdqgn"
      },
      "source": [
        "#### **Analyzing train and test distribution**"
      ]
    },
    {
      "cell_type": "code",
      "metadata": {
        "id": "nCOiaz4DdOnl"
      },
      "source": [
        "# dataframe for train distribution\n",
        "train_df = pd.DataFrame(y_train, columns = ['Targets'])\n",
        "\n",
        "# dataframe for test distribution\n",
        "test_df = pd.DataFrame(y_test, columns = ['Targets'])\n",
        "\n",
        "# train and test value counts\n",
        "train_c = train_df.value_counts()\n",
        "test_c = test_df.value_counts()"
      ],
      "execution_count": 9,
      "outputs": []
    },
    {
      "cell_type": "code",
      "metadata": {
        "colab": {
          "base_uri": "https://localhost:8080/"
        },
        "id": "aVCLKsV5d0Z-",
        "outputId": "21c0d1fb-b3fa-49ce-bfcb-f22f9b565ed3"
      },
      "source": [
        "# class ids\n",
        "class_ids = [i for i in range(10)]\n",
        "print(f'Class ids {class_ids}')"
      ],
      "execution_count": 10,
      "outputs": [
        {
          "output_type": "stream",
          "text": [
            "Class ids [0, 1, 2, 3, 4, 5, 6, 7, 8, 9]\n"
          ],
          "name": "stdout"
        }
      ]
    },
    {
      "cell_type": "markdown",
      "metadata": {
        "id": "YEhX6FaRfn9c"
      },
      "source": [
        "#### **Visualize the distribution for train and test set**\n"
      ]
    },
    {
      "cell_type": "code",
      "metadata": {
        "colab": {
          "base_uri": "https://localhost:8080/",
          "height": 370
        },
        "id": "DUnTRAn4flvD",
        "outputId": "ba08dfee-f347-447f-e3a7-0efd6d3a56f5"
      },
      "source": [
        "fig = plt.figure(figsize = (15,5))\n",
        "fig.suptitle('Class distribution in the standard MNIST set', fontsize = 16)\n",
        "fig.tight_layout()\n",
        "\n",
        "# train distribution\n",
        "fig.add_subplot(121)\n",
        "sns.barplot(x = class_ids, y = train_c.values)\n",
        "plt.xlabel('Train Distribution')\n",
        "\n",
        "# test distribution\n",
        "fig.add_subplot(122)\n",
        "sns.barplot(x = class_ids, y = test_c.values)\n",
        "plt.xlabel('Test Distribution')\n",
        "\n",
        "plt.show()"
      ],
      "execution_count": 11,
      "outputs": [
        {
          "output_type": "display_data",
          "data": {
            "image/png": "[encoded data removed]",
            "text/plain": [
              "<Figure size 1080x360 with 2 Axes>"
            ]
          },
          "metadata": {
            "tags": [],
            "needs_background": "light"
          }
        }
      ]
    },
    {
      "cell_type": "markdown",
      "metadata": {
        "id": "v2vL3JUehRPz"
      },
      "source": [
        "We can see both train and test data are stratified split"
      ]
    },
    {
      "cell_type": "markdown",
      "metadata": {
        "id": "Y2a9weeZpmwP"
      },
      "source": [
        "#### **Sample Visualization of MNIST samples for individual Classes**\n",
        "\n",
        "Picking random sample of each class from train set and visualize  "
      ]
    },
    {
      "cell_type": "code",
      "metadata": {
        "id": "EEXsI12xhL5j"
      },
      "source": [
        "\n",
        "def mnist_vis(x_train, y_train, class_ids):\n",
        "  '''\n",
        "  Visualize random MNIST samples\n",
        "  '''\n",
        "  index_list = [random.choice([j for j,label in enumerate(y_train) if label==i])\n",
        "   for i in class_ids]\n",
        "  \n",
        "  # obtaining sample images from train set\n",
        "  sample_img = [x_train[index] for index in index_list]\n",
        "  \n",
        "  rows = 2\n",
        "  cols = int(len(index_list)/rows)\n",
        "\n",
        "  fig = plt.figure(figsize = (15,5))\n",
        "  fig.suptitle('MNISt samples visualization', fontsize = 16)\n",
        "  #fig.tight_layout()\n",
        "  \n",
        "  for a,idx in enumerate(index_list):\n",
        "    fig.add_subplot(rows, cols, a+1)\n",
        "    plt.imshow(x_train[idx], cmap = 'gray')\n",
        "    plt.xlabel(f'Label: {a}')\n",
        "    plt.xticks([])\n",
        "    plt.yticks([])\n",
        "\n",
        "  plt.show()"
      ],
      "execution_count": 12,
      "outputs": []
    },
    {
      "cell_type": "code",
      "metadata": {
        "colab": {
          "base_uri": "https://localhost:8080/",
          "height": 353
        },
        "id": "8GtTtgh8qQ9s",
        "outputId": "4803c4ac-5628-48f2-bba6-7b31ee77a2dd"
      },
      "source": [
        "# calling visualization\n",
        "mnist_vis(x_train, y_train, class_ids)"
      ],
      "execution_count": 13,
      "outputs": [
        {
          "output_type": "display_data",
          "data": {
            "image/png": "[encoded data removed]",
            "text/plain": [
              "<Figure size 1080x360 with 10 Axes>"
            ]
          },
          "metadata": {
            "tags": []
          }
        }
      ]
    },
    {
      "cell_type": "markdown",
      "metadata": {
        "id": "vPBAOQPeq5dl"
      },
      "source": [
        "## **Data Preperation MNIST**\n",
        "Data preprocessing steps include\n",
        "\n",
        "1. Converting image pixels to float32\n",
        "2. Normalizing the pixels\n",
        "3. Reshaping"
      ]
    },
    {
      "cell_type": "code",
      "metadata": {
        "id": "w-10sM3EqTZ5"
      },
      "source": [
        "def mnist_prep(x_train, x_test):\n",
        "  # convert images pixel to standard float32\n",
        "  x_train_norm = tf.cast(x_train, dtype = tf.float32)\n",
        "  x_test_norm = tf.cast(x_test, dtype = tf.float32)\n",
        "  \n",
        "  # normalize pixels\n",
        "  x_train_norm = x_train_norm/255.0\n",
        "  x_test_norm = x_test_norm/255.0\n",
        "\n",
        "  # reshape the data (m, nh, nw, nc) nc = 1\n",
        "  x_train = tf.expand_dims(x_train_norm, axis = -1)\n",
        "  x_test = tf.expand_dims(x_test_norm, axis = -1)\n",
        "\n",
        "  return x_train, x_test"
      ],
      "execution_count": 14,
      "outputs": []
    },
    {
      "cell_type": "code",
      "metadata": {
        "colab": {
          "base_uri": "https://localhost:8080/"
        },
        "id": "eYud7xOJuAJc",
        "outputId": "8def3de9-fa4a-4ea4-9e04-5b835acd87bc"
      },
      "source": [
        "# loading pre-processes data\n",
        "x_train_pro, x_test_pro = mnist_prep(x_train, x_test)\n",
        "\n",
        "print(f'Preprocessed train input shape {x_train_pro.shape}')\n",
        "print(f'Preprocessed test input shape {x_test_pro.shape}')"
      ],
      "execution_count": 15,
      "outputs": [
        {
          "output_type": "stream",
          "text": [
            "Preprocessed train input shape (60000, 28, 28, 1)\n",
            "Preprocessed test input shape (10000, 28, 28, 1)\n"
          ],
          "name": "stdout"
        }
      ]
    },
    {
      "cell_type": "markdown",
      "metadata": {
        "id": "kzvwrTfw6JF6"
      },
      "source": [
        "#### **Evaluating the pre-processing steps**"
      ]
    },
    {
      "cell_type": "code",
      "metadata": {
        "colab": {
          "base_uri": "https://localhost:8080/"
        },
        "id": "I5XU-zy_5aKu",
        "outputId": "53c62ad3-0ab9-4833-c2be-a39942e37212"
      },
      "source": [
        "# both the input image format are same or not\n",
        "assert x_train_pro.shape[1:] == x_test_pro.shape[1:]\n",
        "# checking lenghth of input and label\n",
        "assert x_train_pro.shape[0] == y_train.shape[0] and x_test_pro.shape[0] == y_test.shape[0]\n",
        "# checking image data type\n",
        "assert x_train_pro.dtype == x_test_pro.dtype\n",
        "\n",
        "print(\"All assertion test cases passed\")"
      ],
      "execution_count": 16,
      "outputs": [
        {
          "output_type": "stream",
          "text": [
            "All assertion test cases passed\n"
          ],
          "name": "stdout"
        }
      ]
    },
    {
      "cell_type": "markdown",
      "metadata": {
        "id": "aOAtYisK-jt0"
      },
      "source": [
        "#### **Data Formatting**"
      ]
    },
    {
      "cell_type": "code",
      "metadata": {
        "id": "V-mVgyiv7H32"
      },
      "source": [
        "training_dataset_size = x_train_pro.shape[0]\n",
        "testing_dataset_size = x_test_pro.shape[0]"
      ],
      "execution_count": 17,
      "outputs": []
    },
    {
      "cell_type": "markdown",
      "metadata": {
        "id": "Zl6KSHupHoZA"
      },
      "source": [
        "**Data formatting**"
      ]
    },
    {
      "cell_type": "markdown",
      "metadata": {
        "id": "avbmw7JjIy90"
      },
      "source": [
        "Defining Hyprparameters"
      ]
    },
    {
      "cell_type": "code",
      "metadata": {
        "id": "ST2TJwlxI9XF"
      },
      "source": [
        "# Batch size of data\n",
        "batch_size = 64"
      ],
      "execution_count": 18,
      "outputs": []
    },
    {
      "cell_type": "markdown",
      "metadata": {
        "id": "OCqM80WuJLPb"
      },
      "source": [
        "Formatting Train dataset"
      ]
    },
    {
      "cell_type": "code",
      "metadata": {
        "id": "W6BtLWEj_F4y"
      },
      "source": [
        "# converting the tensor of train and test data to tf dataset format\n",
        "# we pass train data tensors as tuples\n",
        "dataset = tf.data.Dataset.from_tensor_slices((x_train_pro, y_train))\n",
        "# shuffling the samples\n",
        "# setting reshuffling flag to True so that after every iteration the sample of train data will be reshuffled,\n",
        "# which will give more uniformity to training performance\n",
        "dataset = dataset.shuffle(buffer_size = len(dataset), reshuffle_each_iteration = True)\n",
        "dataset = dataset.batch(batch_size = batch_size)"
      ],
      "execution_count": 20,
      "outputs": []
    },
    {
      "cell_type": "markdown",
      "metadata": {
        "id": "15dEi9PeJOj-"
      },
      "source": [
        "Formatting test dataset"
      ]
    },
    {
      "cell_type": "code",
      "metadata": {
        "id": "W1JnySouJKSH"
      },
      "source": [
        "test_dataset = tf.data.Dataset.from_tensor_slices((x_test_pro, y_test))\n",
        "test_dataset = test_dataset.batch(batch_size = batch_size)"
      ],
      "execution_count": 22,
      "outputs": []
    },
    {
      "cell_type": "markdown",
      "metadata": {
        "id": "cTp1tZOzNrPg"
      },
      "source": [
        "## Model Hyperparameters"
      ]
    },
    {
      "cell_type": "code",
      "metadata": {
        "id": "J9ejhTtoNvux"
      },
      "source": [
        "# defining the dictionary for the model hyperparameters\n",
        "params = {\n",
        "    \"no_of_conv_kernels\": 256,\n",
        "    \"no_of_primary_capsules\": 32, \n",
        "    \"no_of_secondary_capsules\": 10,\n",
        "    \"primary_capsules_vector\": 8,\n",
        "    \"secondary_capsule_vector\": 16,\n",
        "    \"r\": 3\n",
        "}"
      ],
      "execution_count": 23,
      "outputs": []
    },
    {
      "cell_type": "code",
      "metadata": {
        "id": "NeE_6fLYPJ3c"
      },
      "source": [
        "# parameters based on the paper\n",
        "# numerical stabilizer for the squashing function\n",
        "epsilon = 1e-7\n",
        "# for positive margin\n",
        "m_plus = 0.9\n",
        "# for negative margin\n",
        "m_minus = 0.1\n",
        "\n",
        "lambda_ = 0.5\n",
        "# regularization coefficient\n",
        "alpha = 0.0005\n",
        "epochs = 50\n",
        "no_of_secondary_capsules = 10\n",
        "\n",
        "# optimizer is Adam\n",
        "optimizer = tf.keras.optimizers.Adam()"
      ],
      "execution_count": 24,
      "outputs": []
    },
    {
      "cell_type": "markdown",
      "metadata": {
        "id": "dmcGcyYQMF_y"
      },
      "source": [
        "## **Model Building**\n",
        "\n",
        "Building the Capsule Network Model from scratch using Keras functional API and sub-class architecture"
      ]
    },
    {
      "cell_type": "code",
      "metadata": {
        "id": "gL2Rg4ayJu_Y"
      },
      "source": [
        "# passing the abstract class for Model api\n",
        "class CapsuleNetwork(tf.keras.Model):\n",
        "  def __init__(self, no_of_conv_kernels, no_primary_capsules, primary_capsule_vector, \n",
        "               no_of_secondary_capsules, secondary_capsule_vector, r):\n",
        "    # passing the class name to super class so that we can use functionality of abstract class\n",
        "    self.no_of_conv_kernels = no_of_conv_kernels\n",
        "    self.no_of_primary_capsules = no_of_primary_capsules\n",
        "    self.primary_capsule_vector = primary_capsule_vector\n",
        "    self.no_of_secondary_capsules = no_of_secondary_capsules\n",
        "    self.secondary_capsule_vector = secondary_capsule_vector\n",
        "    self.r = r\n",
        "\n",
        "    # with operation block helps to implement exception handling in short way\n",
        "    # tf.name_scope() helps to create a context manager while defining a python operation here\n",
        "    with tf.name_scope(\"Variables\") as scope:\n",
        "      self.convolution = tf.keras.layers.Conv2D(self.no_of_conv_kernels, [9,9], strides=[1,1], name = 'ConvolutionLayer',\n",
        "                                                activation = 'relu')\n",
        "      # we need total 32 blocks each of having 8 convolution kernel channels\n",
        "      # for the each convolution block total 36 vectors are there, each of having 8 dimensions\n",
        "      self.primary_capsule = tf.keras.layers.Conv2D(self.no_of_primary_capsules * self.primary_capsule_vector, \n",
        "                                                    [9,9], strides = [2,2], name = 'PrimaryCapsule')\n",
        "      # defining the parameters for capsule activation of secondary capsule layer\n",
        "      # for MNIST we can also call it as digit capsule layer\n",
        "      self.w = tf.Variable(tf.random_normal_initializer()(shape = [1,1152, self.no_of_secondary_capsules, self.secondary_capsule_vector, \n",
        "                                                                   self.primary_capsule_vector]), dtype = tf.float32,\n",
        "                           name = 'PoseEstimation', trainable = True)\n",
        "      \n",
        "      # defining the reconstruction part/decoder section\n",
        "      self.dense_1 = tf.keras.layers.Dense(units = 512, activation = 'relu')\n",
        "      self.dense_2 = tf.keras.layers.Dense(units = 1024, activation = 'relu')\n",
        "      self.dense_3 = tf.keras.layers.Dense(units = 784, activation = 'sigmoid', dtype = tf.float32)\n",
        "\n",
        "    # overwriting the function of abstract class\n",
        "    def build(self, input_shape):\n",
        "      pass\n",
        "\n",
        "    # defining the squash function which helps to create capsules\n",
        "    # capsules are of single length(which is the prediction value)\n",
        "    def squash(self, s):\n",
        "      # creating a context manager for squashing operation\n",
        "      with tf.name_scope('SquashFunction') as scope:\n",
        "        # using L1 norm across the channels or the capsules\n",
        "        s_norm = tf.norm(s, axis=-1, keepdims = True)\n",
        "        return tf.square(s_norm/(1+tf.square(s_norm)) * s/(s_norm))"
      ],
      "execution_count": 25,
      "outputs": []
    },
    {
      "cell_type": "code",
      "metadata": {
        "id": "C8vlNAX3n8wz"
      },
      "source": [
        ""
      ],
      "execution_count": null,
      "outputs": []
    }
  ]
}